{
 "cells": [
  {
   "cell_type": "markdown",
   "metadata": {},
   "source": [
    "# CP 322 - Final Project\n",
    "\n",
    "### Names & ID\n",
    "\n",
    "- Aditya Chauhan (169027493)\n",
    "- Matthew McCulley ()\n",
    "\n",
    "### Dataset Choice\n",
    "\n",
    "- [Student Performance Dataset](https://archive.ics.uci.edu/dataset/320/student+performance)"
   ]
  }
 ],
 "metadata": {
  "language_info": {
   "name": "python"
  }
 },
 "nbformat": 4,
 "nbformat_minor": 2
}

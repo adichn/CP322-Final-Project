{
 "cells": [
  {
   "cell_type": "markdown",
   "metadata": {},
   "source": [
    "# CP 322 - Final Project\n",
    "\n",
    "Aditya Chauhan (169027493)\n",
    "\n",
    "### Dataset Choice\n",
    "\n",
    "- [Student Performance Dataset](https://archive.ics.uci.edu/dataset/320/student+performance)"
   ]
  },
  {
   "cell_type": "markdown",
   "metadata": {},
   "source": [
    "### Imports"
   ]
  },
  {
   "cell_type": "code",
   "execution_count": 2,
   "metadata": {},
   "outputs": [],
   "source": [
    "import pandas as pd\n",
    "import numpy as np\n",
    "import matplotlib.pyplot as plt\n",
    "from sklearn.model_selection import train_test_split"
   ]
  },
  {
   "cell_type": "markdown",
   "metadata": {},
   "source": [
    "### Read Data"
   ]
  },
  {
   "cell_type": "code",
   "execution_count": 5,
   "metadata": {},
   "outputs": [
    {
     "name": "stdout",
     "output_type": "stream",
     "text": [
      "Number of students in merged dataset: 382\n",
      "Merged dataset saved to 'student-merged.csv'.\n"
     ]
    }
   ],
   "source": [
    "# Load the datasets\n",
    "student_mat = pd.read_csv(\"student-mat.csv\", sep=\";\")\n",
    "student_por = pd.read_csv(\"student-por.csv\", sep=\";\")\n",
    "\n",
    "# Merge datasets on specified columns\n",
    "merge_columns = [\n",
    "    \"school\", \"sex\", \"age\", \"address\", \"famsize\", \"Pstatus\", \n",
    "    \"Medu\", \"Fedu\", \"Mjob\", \"Fjob\", \"reason\", \"nursery\", \"internet\"\n",
    "]\n",
    "merged_data = pd.merge(student_mat, student_por, on=merge_columns)\n",
    "\n",
    "# Check the number of rows in the merged dataset\n",
    "print(f\"Number of students in merged dataset: {merged_data.shape[0]}\")\n",
    "\n",
    "# Save the merged dataset\n",
    "merged_data.to_csv(\"student-merged.csv\", index=False)\n",
    "\n",
    "print(\"Merged dataset saved to 'student-merged.csv'.\")"
   ]
  },
  {
   "cell_type": "markdown",
   "metadata": {},
   "source": [
    "## Data Quality Report"
   ]
  },
  {
   "cell_type": "code",
   "execution_count": null,
   "metadata": {},
   "outputs": [],
   "source": []
  }
 ],
 "metadata": {
  "kernelspec": {
   "display_name": "Python 3",
   "language": "python",
   "name": "python3"
  },
  "language_info": {
   "codemirror_mode": {
    "name": "ipython",
    "version": 3
   },
   "file_extension": ".py",
   "mimetype": "text/x-python",
   "name": "python",
   "nbconvert_exporter": "python",
   "pygments_lexer": "ipython3",
   "version": "3.12.6"
  }
 },
 "nbformat": 4,
 "nbformat_minor": 2
}

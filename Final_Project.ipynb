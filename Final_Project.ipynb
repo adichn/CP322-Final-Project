{
 "cells": [
  {
   "cell_type": "markdown",
   "metadata": {},
   "source": [
    "# CP 322 - Final Project\n",
    "\n",
    "### Names & ID\n",
    "\n",
    "- Aditya Chauhan (169027493)\n",
    "- Matthew McCulley ()\n",
    "\n",
    "### Dataset Choice\n",
    "\n",
    "- [Student Performance Dataset](https://archive.ics.uci.edu/dataset/320/student+performance)"
   ]
  },
  {
   "cell_type": "markdown",
   "metadata": {},
   "source": [
    "### Imports"
   ]
  },
  {
   "cell_type": "code",
   "execution_count": 1,
   "metadata": {},
   "outputs": [],
   "source": [
    "import pandas as pd\n",
    "import numpy as np\n",
    "import matplotlib.pyplot as plt\n",
    "from sklearn.model_selection import train_test_split"
   ]
  },
  {
   "cell_type": "markdown",
   "metadata": {},
   "source": [
    "### Read Data"
   ]
  },
  {
   "cell_type": "code",
   "execution_count": 2,
   "metadata": {},
   "outputs": [],
   "source": [
    "data = pd.read_csv(\"student-mat.csv\", sep=\";\")"
   ]
  },
  {
   "cell_type": "markdown",
   "metadata": {},
   "source": [
    "## Data Quality Report"
   ]
  },
  {
   "cell_type": "markdown",
   "metadata": {},
   "source": [
    "#### Dataset Shape:\n",
    "\n",
    "The shape of the data's distribution can help with finding descriptive statistics.\n",
    "\n",
    "#### Dataset Columns:\n",
    "\n",
    "The columns of a dataset (Descriptive & Target Features).\n",
    "\n",
    "#### Missing Values\n",
    "\n",
    "Prints the number of missing values in all columns.\n",
    "\n",
    "### Data Types\n",
    "\n",
    "Seeing what datatypes we're working with can provide insight on how to handle information.\n",
    "\n",
    "### Summary Statistics (Numerical Data Analysis)\n",
    "\n",
    "Can provide insight for the numerical features, as to the relative scale of the data points. \n",
    "\n",
    "### Categorical Data Analysis\n",
    "\n",
    "Gives insight into the binary split of non-numerical features. Can help with generalizing the data. "
   ]
  },
  {
   "cell_type": "code",
   "execution_count": null,
   "metadata": {},
   "outputs": [],
   "source": [
    "print(\"====== Data Quality report ======\")\n",
    "\n",
    "def generate_data_quality_report(df):\n",
    "\n",
    "    print(\"\\nDataset Shape: \\n\", df.shape) # Needs to be improved\n",
    "\n",
    "    print(\"\\nColumns: \\n\", df.columns.tolist())\n",
    "\n",
    "    missing_values = df.isnull().sum()\n",
    "    print(\"\\nMissing Values: \\n\", missing_values[missing_values > 0] if any(missing_values > 0) else \"No missing values\") # Must print missing values for each feature (Each feature should have the same number of \"nodes\")\n",
    "\n",
    "    print(\"\\nData Types: \\n\", df.dtypes)\n",
    "\n",
    "    print(\"\\nNumerical Columns Summary:\\n\", df.describe())\n",
    "\n",
    "    categorical_cols = df.select_dtypes(include=['object']).columns\n",
    "    print(\"\\nCategorical Columns Analysis:\")\n",
    "    for col in categorical_cols:\n",
    "        print(f\"\\nUnique values in {col}:\\n\", df[col].value_counts())\n",
    "        \n",
    "    return df\n",
    "\n",
    "generate_data_quality_report(data)        "
   ]
  },
  {
   "cell_type": "markdown",
   "metadata": {},
   "source": [
    "## Basic Visualizations"
   ]
  },
  {
   "cell_type": "code",
   "execution_count": null,
   "metadata": {},
   "outputs": [],
   "source": [
    "def create_basic_visualizations(df):\n",
    "\n",
    "    print(\"====== Basic Visualizations ======\\n\")\n",
    "    plt.figure(figsize=(15, 10))\n",
    "\n",
    "    \n",
    "\n",
    "create_basic_visualizations(data)"
   ]
  }
 ],
 "metadata": {
  "kernelspec": {
   "display_name": "Python 3",
   "language": "python",
   "name": "python3"
  },
  "language_info": {
   "codemirror_mode": {
    "name": "ipython",
    "version": 3
   },
   "file_extension": ".py",
   "mimetype": "text/x-python",
   "name": "python",
   "nbconvert_exporter": "python",
   "pygments_lexer": "ipython3",
   "version": "3.12.6"
  }
 },
 "nbformat": 4,
 "nbformat_minor": 2
}
